{
 "cells": [
  {
   "cell_type": "code",
   "execution_count": 24,
   "metadata": {},
   "outputs": [],
   "source": [
    "import torch\n",
    "# import matplotlib.pyplot as plt\n",
    "import time\n",
    "from torch.autograd import Variable"
   ]
  },
  {
   "cell_type": "code",
   "execution_count": null,
   "metadata": {},
   "outputs": [],
   "source": [
    "time_start=time.time()\n",
    "time_end=time.time()\n",
    "print('totally cost',time_end-time_start)"
   ]
  },
  {
   "cell_type": "code",
   "execution_count": 6,
   "metadata": {},
   "outputs": [
    {
     "data": {
      "text/plain": [
       "tensor([[1., 0., 0.],\n",
       "        [0., 1., 0.],\n",
       "        [0., 0., 1.]])"
      ]
     },
     "execution_count": 6,
     "metadata": {},
     "output_type": "execute_result"
    }
   ],
   "source": [
    "sales = torch.eye(3,3)\n",
    "torch.eye(3,3)"
   ]
  },
  {
   "cell_type": "code",
   "execution_count": 8,
   "metadata": {},
   "outputs": [
    {
     "data": {
      "text/plain": [
       "tensor(1.)"
      ]
     },
     "execution_count": 8,
     "metadata": {},
     "output_type": "execute_result"
    }
   ],
   "source": [
    "sales[1,1]"
   ]
  },
  {
   "cell_type": "code",
   "execution_count": 9,
   "metadata": {},
   "outputs": [],
   "source": [
    "data_path = './../images/pandas.jpg'"
   ]
  },
  {
   "cell_type": "markdown",
   "metadata": {},
   "source": [
    "## 叉乘与点成"
   ]
  },
  {
   "cell_type": "code",
   "execution_count": 4,
   "metadata": {},
   "outputs": [
    {
     "name": "stdout",
     "output_type": "stream",
     "text": [
      "tensor([[0.6964, 1.4656],\n",
      "        [0.3393, 0.6521]])\n",
      "tensor([[0.6964, 1.4656],\n",
      "        [0.3393, 0.6521]])\n"
     ]
    }
   ],
   "source": [
    "a = torch.rand(2,2)\n",
    "b = torch.rand(2,2)\n",
    "c = a + b\n",
    "print(c)\n",
    "d = a.add(b)\n",
    "print(d)"
   ]
  },
  {
   "cell_type": "code",
   "execution_count": 5,
   "metadata": {},
   "outputs": [
    {
     "data": {
      "text/plain": [
       "tensor([[0.1112, 0.5319],\n",
       "        [0.0067, 0.0045]])"
      ]
     },
     "execution_count": 5,
     "metadata": {},
     "output_type": "execute_result"
    }
   ],
   "source": [
    "a*b"
   ]
  },
  {
   "cell_type": "code",
   "execution_count": 6,
   "metadata": {},
   "outputs": [
    {
     "data": {
      "text/plain": [
       "tensor([[0.1112, 0.5319],\n",
       "        [0.0067, 0.0045]])"
      ]
     },
     "execution_count": 6,
     "metadata": {},
     "output_type": "execute_result"
    }
   ],
   "source": [
    "a.mul(b)"
   ]
  },
  {
   "cell_type": "code",
   "execution_count": 8,
   "metadata": {},
   "outputs": [
    {
     "data": {
      "text/plain": [
       "tensor([[0.1112, 0.5319],\n",
       "        [0.0067, 0.0045]])"
      ]
     },
     "execution_count": 8,
     "metadata": {},
     "output_type": "execute_result"
    }
   ],
   "source": [
    "a.mul_(b)"
   ]
  },
  {
   "cell_type": "code",
   "execution_count": 12,
   "metadata": {},
   "outputs": [
    {
     "data": {
      "text/plain": [
       "tensor([[0.2246, 0.4680],\n",
       "        [0.4901, 0.7707]])"
      ]
     },
     "execution_count": 12,
     "metadata": {},
     "output_type": "execute_result"
    }
   ],
   "source": [
    "a = torch.rand(2,3)\n",
    "b = torch.rand(3,2)\n",
    "a.mm(b)"
   ]
  },
  {
   "cell_type": "code",
   "execution_count": 13,
   "metadata": {},
   "outputs": [
    {
     "data": {
      "text/plain": [
       "tensor([[0.2246, 0.4680],\n",
       "        [0.4901, 0.7707]])"
      ]
     },
     "execution_count": 13,
     "metadata": {},
     "output_type": "execute_result"
    }
   ],
   "source": [
    "a.matmul(b)"
   ]
  },
  {
   "cell_type": "code",
   "execution_count": 17,
   "metadata": {},
   "outputs": [
    {
     "name": "stdout",
     "output_type": "stream",
     "text": [
      "tensor([[4964.6831, 4963.0142, 4964.3994,  ..., 4960.3418, 4941.7808,\n",
      "         4975.0322],\n",
      "        [5037.8003, 5042.1304, 5002.3525,  ..., 4998.1597, 5020.0957,\n",
      "         5042.5981],\n",
      "        [5017.7983, 5001.1284, 4974.2573,  ..., 4984.0059, 5001.5601,\n",
      "         5000.8213],\n",
      "        ...,\n",
      "        [5039.1504, 5051.3203, 5032.1851,  ..., 5017.5381, 5003.3789,\n",
      "         5057.8770],\n",
      "        [5028.4146, 5024.3003, 4995.8818,  ..., 5018.4067, 5015.8677,\n",
      "         5021.2534],\n",
      "        [4972.9541, 4975.3975, 4959.7729,  ..., 4955.5098, 4973.4556,\n",
      "         4975.7803]])\n",
      "totally cost 23.851388931274414\n"
     ]
    }
   ],
   "source": [
    "time_start=time.time()\n",
    "a = torch.rand(10000,20000)\n",
    "b = torch.rand(20000,10000)\n",
    "print(a.matmul(b))\n",
    "time_end=time.time()\n",
    "print('totally cost',time_end-time_start)"
   ]
  },
  {
   "cell_type": "code",
   "execution_count": 18,
   "metadata": {},
   "outputs": [
    {
     "data": {
      "text/plain": [
       "tensor([[0.6583, 0.0731, 0.3934,  ..., 0.0652, 0.0580, 0.7780],\n",
       "        [0.0473, 0.4876, 0.3484,  ..., 0.1758, 0.2754, 0.1716],\n",
       "        [0.9141, 0.2417, 0.6078,  ..., 0.3136, 0.0514, 0.5330],\n",
       "        ...,\n",
       "        [0.5274, 0.3190, 0.5798,  ..., 0.5161, 0.2095, 0.2021],\n",
       "        [0.6957, 0.1075, 0.9825,  ..., 0.1893, 0.7189, 0.2292],\n",
       "        [0.7554, 0.4881, 0.5716,  ..., 0.6871, 0.4245, 0.2155]])"
      ]
     },
     "execution_count": 18,
     "metadata": {},
     "output_type": "execute_result"
    }
   ],
   "source": [
    "torch.rand(10000,20000)"
   ]
  },
  {
   "cell_type": "code",
   "execution_count": 20,
   "metadata": {},
   "outputs": [
    {
     "name": "stdout",
     "output_type": "stream",
     "text": [
      "tensor([[4979.4604, 4968.9971, 5005.7490,  ..., 4958.9551, 4997.2432,\n",
      "         4978.7163],\n",
      "        [5023.5552, 5000.1353, 5031.7393,  ..., 4978.9360, 5007.8872,\n",
      "         5027.6533],\n",
      "        [5007.4800, 5016.3223, 5029.9995,  ..., 4989.6660, 5020.0186,\n",
      "         5043.4146],\n",
      "        ...,\n",
      "        [5043.4072, 5017.5405, 5023.3213,  ..., 5018.1753, 5009.5552,\n",
      "         5031.0293],\n",
      "        [4988.7646, 4983.6099, 5020.3394,  ..., 4961.2476, 4978.7695,\n",
      "         5005.6670],\n",
      "        [5012.8823, 5016.2471, 5048.6177,  ..., 4975.7671, 4987.2319,\n",
      "         5037.4395]], device='cuda:0')\n",
      "totally cost 2.3705382347106934\n"
     ]
    }
   ],
   "source": [
    "time_start=time.time()\n",
    "a = torch.rand(10000,20000)\n",
    "b = torch.rand(20000,10000)\n",
    "a = a.cuda()\n",
    "b = b.cuda()\n",
    "print(a.matmul(b))\n",
    "time_end=time.time()\n",
    "print('totally cost',time_end-time_start)"
   ]
  },
  {
   "cell_type": "code",
   "execution_count": 27,
   "metadata": {},
   "outputs": [
    {
     "name": "stdout",
     "output_type": "stream",
     "text": [
      "tensor([[1., 1.],\n",
      "        [1., 1.]], requires_grad=True)\n",
      "tensor(1., grad_fn=<MeanBackward0>)\n"
     ]
    }
   ],
   "source": [
    "x = Variable(torch.ones(2,2),requires_grad=True)\n",
    "y = x.mean()\n",
    "print(x)\n",
    "print(y)"
   ]
  },
  {
   "cell_type": "code",
   "execution_count": 28,
   "metadata": {},
   "outputs": [],
   "source": [
    "y.backward()"
   ]
  },
  {
   "cell_type": "code",
   "execution_count": 29,
   "metadata": {},
   "outputs": [
    {
     "name": "stdout",
     "output_type": "stream",
     "text": [
      "tensor([[1., 1.],\n",
      "        [1., 1.]])\n"
     ]
    }
   ],
   "source": [
    "print(x.data)\n",
    "print(x.grad)"
   ]
  },
  {
   "cell_type": "code",
   "execution_count": null,
   "metadata": {},
   "outputs": [],
   "source": []
  }
 ],
 "metadata": {
  "kernelspec": {
   "display_name": "Python [conda env:pytorch] *",
   "language": "python",
   "name": "conda-env-pytorch-py"
  },
  "language_info": {
   "codemirror_mode": {
    "name": "ipython",
    "version": 3
   },
   "file_extension": ".py",
   "mimetype": "text/x-python",
   "name": "python",
   "nbconvert_exporter": "python",
   "pygments_lexer": "ipython3",
   "version": "3.6.10"
  }
 },
 "nbformat": 4,
 "nbformat_minor": 4
}
