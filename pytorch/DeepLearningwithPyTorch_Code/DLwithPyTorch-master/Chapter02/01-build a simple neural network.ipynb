{
 "cells": [
  {
   "cell_type": "markdown",
   "metadata": {
    "collapsed": true,
    "pycharm": {
     "name": "#%% md\n"
    }
   },
   "source": [
    "# 构建一个小型的神经网络\n",
    "1. 创建数据\n",
    "2. 初始化学习参数\n",
    "3. 构建网络模型\n",
    "4. 构建损失函数\n",
    "5. 构建优化器\n",
    "6. 实现一个神经网络"
   ]
  },
  {
   "cell_type": "markdown",
   "source": [
    "- 导包\n"
   ],
   "metadata": {
    "collapsed": false,
    "pycharm": {
     "name": "#%% md\n"
    }
   }
  },
  {
   "cell_type": "code",
   "execution_count": 1,
   "outputs": [],
   "source": [
    "import torch\n",
    "import matplotlib.pyplot as plt\n",
    "import time\n",
    "from torch.autograd import Variable\n",
    "import numpy as np"
   ],
   "metadata": {
    "collapsed": false,
    "pycharm": {
     "name": "#%%\n"
    }
   }
  },
  {
   "cell_type": "markdown",
   "source": [
    "## 1. 创建数据"
   ],
   "metadata": {
    "collapsed": false,
    "pycharm": {
     "name": "#%% md\n"
    }
   }
  },
  {
   "cell_type": "code",
   "execution_count": 3,
   "outputs": [],
   "source": [
    "def get_data():\n",
    "    train_X = np.asarray([3.3,4.4,5.5,6.71,6.93,4.168,9.779,6.182,7.59,2.167,7.042,10.791,5.313,7.997,5.654,9.27,3.1])\n",
    "    train_Y = np.asarray([1.7,2.76,2.09,3.19,1.694,1.573,3.366,2.596,2.53,1.221,2.827,3.465,1.65,2.904,2.42,2.94,1.3])\n",
    "    dtype = torch.FloatTensor\n",
    "    x = Variable(torch.from_numpy(train_X).type(dtype),requires_grad=False).view(17,1)\n",
    "    y = Variable(torch.from_numpy(train_Y).type(dtype),requires_grad=False)\n",
    "    return x,y"
   ],
   "metadata": {
    "collapsed": false,
    "pycharm": {
     "name": "#%%\n"
    }
   }
  },
  {
   "cell_type": "code",
   "execution_count": 6,
   "outputs": [
    {
     "name": "stdout",
     "output_type": "stream",
     "text": [
      "tensor([[ 3.3000],\n",
      "        [ 4.4000],\n",
      "        [ 5.5000],\n",
      "        [ 6.7100],\n",
      "        [ 6.9300],\n",
      "        [ 4.1680],\n",
      "        [ 9.7790],\n",
      "        [ 6.1820],\n",
      "        [ 7.5900],\n",
      "        [ 2.1670],\n",
      "        [ 7.0420],\n",
      "        [10.7910],\n",
      "        [ 5.3130],\n",
      "        [ 7.9970],\n",
      "        [ 5.6540],\n",
      "        [ 9.2700],\n",
      "        [ 3.1000]])\n",
      "tensor([1.7000, 2.7600, 2.0900, 3.1900, 1.6940, 1.5730, 3.3660, 2.5960, 2.5300,\n",
      "        1.2210, 2.8270, 3.4650, 1.6500, 2.9040, 2.4200, 2.9400, 1.3000])\n"
     ]
    }
   ],
   "source": [
    "x,y = get_data()\n",
    "print(x)\n",
    "print(y)"
   ],
   "metadata": {
    "collapsed": false,
    "pycharm": {
     "name": "#%%\n"
    }
   }
  },
  {
   "cell_type": "markdown",
   "source": [
    "## 2. 初始化学习参数"
   ],
   "metadata": {
    "collapsed": false,
    "pycharm": {
     "name": "#%% md\n"
    }
   }
  },
  {
   "cell_type": "code",
   "execution_count": 8,
   "outputs": [],
   "source": [
    "def get_weights():\n",
    "    w = Variable(torch.randn(1),requires_grad=True)\n",
    "    b = Variable(torch.randn(1),requires_grad=True)\n",
    "    return w,b"
   ],
   "metadata": {
    "collapsed": false,
    "pycharm": {
     "name": "#%%\n"
    }
   }
  },
  {
   "cell_type": "code",
   "execution_count": 9,
   "outputs": [
    {
     "name": "stdout",
     "output_type": "stream",
     "text": [
      "tensor([1.1534], requires_grad=True)\n",
      "tensor([-0.0105], requires_grad=True)\n"
     ]
    }
   ],
   "source": [
    "w,b = get_weights()\n",
    "print(w)\n",
    "print(b)"
   ],
   "metadata": {
    "collapsed": false,
    "pycharm": {
     "name": "#%%\n"
    }
   }
  },
  {
   "cell_type": "markdown",
   "source": [
    "## 3. 构建网络模型\n",
    "\n"
   ],
   "metadata": {
    "collapsed": false,
    "pycharm": {
     "name": "#%% md\n"
    }
   }
  },
  {
   "cell_type": "code",
   "execution_count": 10,
   "outputs": [],
   "source": [
    "def simple_network(x):\n",
    "    y_pred = torch.matmul(x,w)+b  # (17,1).mm(1,1) => (17,1)\n",
    "    return y_pred"
   ],
   "metadata": {
    "collapsed": false,
    "pycharm": {
     "name": "#%%\n"
    }
   }
  },
  {
   "cell_type": "markdown",
   "source": [
    "## 4. 构建损失函数"
   ],
   "metadata": {
    "collapsed": false,
    "pycharm": {
     "name": "#%% md\n"
    }
   }
  },
  {
   "cell_type": "code",
   "execution_count": 13,
   "outputs": [],
   "source": [
    "def loss_fn(y,y_pred):\n",
    "    loss = (y_pred-y).pow(2).sum()\n",
    "    for param in [w,b]:\n",
    "        if param.grad is not None: # 每次计算梯度前，应确保之前参数的梯度为0，避免梯度的计算受前边梯度的影响\n",
    "            param.grad.data.zero_()\n",
    "    loss.backward() # 损失反向传播，计算梯度\n",
    "    return loss.item()\n"
   ],
   "metadata": {
    "collapsed": false,
    "pycharm": {
     "name": "#%%\n"
    }
   }
  },
  {
   "cell_type": "markdown",
   "source": [
    "## 5. 构建优化器\n",
    "- 处理反向传播过程中梯度下降的快慢，及收敛效果\n",
    "\n"
   ],
   "metadata": {
    "collapsed": false,
    "pycharm": {
     "name": "#%% md\n"
    }
   }
  },
  {
   "cell_type": "code",
   "execution_count": 14,
   "outputs": [],
   "source": [
    "def optimize(learning_rate):\n",
    "    w.data -= learning_rate*w.grad.data\n",
    "    b.data -= learning_rate*b.grad.data\n"
   ],
   "metadata": {
    "collapsed": false,
    "pycharm": {
     "name": "#%%\n"
    }
   }
  },
  {
   "cell_type": "markdown",
   "source": [
    "## 6. 实现简单神经网络\n",
    "\n",
    "\n"
   ],
   "metadata": {
    "collapsed": false,
    "pycharm": {
     "name": "#%% md\n"
    }
   }
  },
  {
   "cell_type": "code",
   "execution_count": 22,
   "outputs": [
    {
     "name": "stdout",
     "output_type": "stream",
     "text": [
      "tensor([[ 3.3000],\n",
      "        [ 4.4000],\n",
      "        [ 5.5000],\n",
      "        [ 6.7100],\n",
      "        [ 6.9300],\n",
      "        [ 4.1680],\n",
      "        [ 9.7790],\n",
      "        [ 6.1820],\n",
      "        [ 7.5900],\n",
      "        [ 2.1670],\n",
      "        [ 7.0420],\n",
      "        [10.7910],\n",
      "        [ 5.3130],\n",
      "        [ 7.9970],\n",
      "        [ 5.6540],\n",
      "        [ 9.2700],\n",
      "        [ 3.1000]])\n",
      "tensor([1.7000, 2.7600, 2.0900, 3.1900, 1.6940, 1.5730, 3.3660, 2.5960, 2.5300,\n",
      "        1.2210, 2.8270, 3.4650, 1.6500, 2.9040, 2.4200, 2.9400, 1.3000])\n",
      "loss:357.0709533691406\n",
      "loss:4.976167678833008\n",
      "loss:4.176623821258545\n",
      "loss:3.647890567779541\n",
      "loss:3.2982418537139893\n",
      "loss:3.067020893096924\n",
      "loss:2.9141159057617188\n",
      "loss:2.813000202178955\n",
      "loss:2.7461330890655518\n",
      "loss:2.701914072036743\n",
      "totally cost 0.09499979019165039\n"
     ]
    }
   ],
   "source": [
    "time_start=time.time()\n",
    "\n",
    "x,y = get_data()\n",
    "print(x)\n",
    "print(y)\n",
    "w,b = get_weights()\n",
    "for i in range(500): # 训练epoch = 500\n",
    "    y_pred = simple_network(x)\n",
    "    loss = loss_fn(y,y_pred)\n",
    "    if i%50==0:\n",
    "        print(\"loss:{}\".format(loss))\n",
    "    optimize(learning_rate=1e-3)\n",
    "time_end=time.time()\n",
    "\n",
    "print('totally cost',time_end-time_start)\n"
   ],
   "metadata": {
    "collapsed": false,
    "pycharm": {
     "name": "#%%\n"
    }
   }
  },
  {
   "cell_type": "markdown",
   "source": [
    "- 绘制拟合图\n"
   ],
   "metadata": {
    "collapsed": false,
    "pycharm": {
     "name": "#%% md\n"
    }
   }
  },
  {
   "cell_type": "code",
   "execution_count": 19,
   "outputs": [
    {
     "data": {
      "text/plain": "<Figure size 432x288 with 1 Axes>",
      "image/png": "[encoded data removed]"
     },
     "metadata": {
      "needs_background": "light"
     },
     "output_type": "display_data"
    }
   ],
   "source": [
    "plt.scatter(x,y)\n",
    "y_pred = torch.matmul(x,w)+b\n",
    "plt.plot(x.detach().numpy(),y_pred.detach().numpy())\n",
    "plt.show()\n"
   ],
   "metadata": {
    "collapsed": false,
    "pycharm": {
     "name": "#%%\n"
    }
   }
  },
  {
   "cell_type": "code",
   "execution_count": 20,
   "outputs": [],
   "source": [
    "def plot_variable(x,y,z='',**kwargs):\n",
    "    l = []\n",
    "    for a in [x,y]:\n",
    "#         if type(a) == Variable:\n",
    "        l.append(a.data.numpy())\n",
    "    plt.plot(l[0],l[1],z,**kwargs)\n",
    "\n"
   ],
   "metadata": {
    "collapsed": false,
    "pycharm": {
     "name": "#%%\n"
    }
   }
  },
  {
   "cell_type": "code",
   "execution_count": 23,
   "outputs": [
    {
     "data": {
      "text/plain": "<Figure size 432x288 with 1 Axes>",
      "image/png": "[encoded data removed]"
     },
     "metadata": {
      "needs_background": "light"
     },
     "output_type": "display_data"
    }
   ],
   "source": [
    "x_numpy = x.data.numpy()\n",
    "plot_variable(x,y,'ro')\n",
    "plot_variable(x,y_pred,label='Fitted line')\n",
    "\n"
   ],
   "metadata": {
    "collapsed": false,
    "pycharm": {
     "name": "#%%\n"
    }
   }
  }
 ],
 "metadata": {
  "kernelspec": {
   "name": "general",
   "language": "python",
   "display_name": "Python [conda env:general]"
  },
  "language_info": {
   "codemirror_mode": {
    "name": "ipython",
    "version": 2
   },
   "file_extension": ".py",
   "mimetype": "text/x-python",
   "name": "python",
   "nbconvert_exporter": "python",
   "pygments_lexer": "ipython2",
   "version": "2.7.6"
  }
 },
 "nbformat": 4,
 "nbformat_minor": 0
}